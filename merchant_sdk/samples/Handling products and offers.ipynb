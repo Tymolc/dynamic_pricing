{
 "cells": [
  {
   "cell_type": "markdown",
   "metadata": {
    "deletable": true,
    "editable": true
   },
   "source": [
    "# Simulation API"
   ]
  },
  {
   "cell_type": "markdown",
   "metadata": {},
   "source": [
    "A merchant wants to offer products and maximize profits. Just like on a real online marketplace, he can look at all existing offers, add some own, restock or reprice. She has to buy (or produce) products first, which comes with costs. This is partially done by the producer. The entities are all implemented as services and their interfaces (REST) are described in detail [here](https://hpi-epic.github.io/masterproject-pricewars/).\n",
    "\n",
    "This notebook will present how to use the Merchant SDK to do all these tasks easily. From registration to buying products, offering them and repricing them. Everything else is left to the merchant logic.\n",
    "\n",
    "*Note*: The SDK is type-hinted, so using an IDE (e.g. PyCharm/IntelliJ or an IPython/Jupyter notebook) provides you with auto-completion (that is also the reason why Python >= 3.5 is required)."
   ]
  },
  {
   "cell_type": "markdown",
   "metadata": {},
   "source": [
    "## Install requirements"
   ]
  },
  {
   "cell_type": "markdown",
   "metadata": {},
   "source": [
    "Get the `merchant_sdk` folder, python >= 3.5 and install the dependencies using pip:\n",
    "\n",
    "```\n",
    "cd merchant_sdk\n",
    "pip3 install -r requirements.txt\n",
    "```"
   ]
  },
  {
   "cell_type": "markdown",
   "metadata": {},
   "source": [
    "## Import SDK"
   ]
  },
  {
   "cell_type": "code",
   "execution_count": 3,
   "metadata": {
    "collapsed": true
   },
   "outputs": [],
   "source": [
    "import sys\n",
    "sys.path.append('../../')\n",
    "\n",
    "import merchant_sdk"
   ]
  },
  {
   "cell_type": "markdown",
   "metadata": {},
   "source": [
    "## Init API"
   ]
  },
  {
   "cell_type": "markdown",
   "metadata": {},
   "source": [
    "make sure to have all services running by either deploying them individually or using the docker and docker-compose files."
   ]
  },
  {
   "cell_type": "code",
   "execution_count": 7,
   "metadata": {
    "collapsed": true
   },
   "outputs": [],
   "source": [
    "from merchant_sdk.api import MarketplaceApi, ProducerApi, PricewarsRequester"
   ]
  },
  {
   "cell_type": "code",
   "execution_count": 5,
   "metadata": {
    "collapsed": true
   },
   "outputs": [],
   "source": [
    "marketplace_endpoint = 'http://vm-mpws2016hp1-04.eaalab.hpi.uni-potsdam.de:8080/marketplace'\n",
    "marketplace_api = MarketplaceApi(host=marketplace_endpoint)\n",
    "\n",
    "producer_endpoint = 'http://vm-mpws2016hp1-03.eaalab.hpi.uni-potsdam.de'\n",
    "producer_api = ProducerApi(host=producer_endpoint)"
   ]
  },
  {
   "cell_type": "markdown",
   "metadata": {},
   "source": [
    "## Register as merchant"
   ]
  },
  {
   "cell_type": "markdown",
   "metadata": {},
   "source": [
    "In order to act on the marketplace, we need to be a registered merchant. Usually you use the Management UI to register a merchant and remember/keep the merchant_token. However, you can also call the API with the SDK.\n",
    "\n",
    "You will also have to provie an API endpoint for your merchant, which will be called upon sales of products. We will simply use an invalid one, since this is only an example."
   ]
  },
  {
   "cell_type": "code",
   "execution_count": 6,
   "metadata": {
    "collapsed": false
   },
   "outputs": [
    {
     "data": {
      "text/plain": [
       "{\"api_endpoint_url\": \"http://nobody:55000/\", \"merchant_name\": \"sample_merchant\", \"algorithm_name\": \"human\", \"merchant_id\": \"6ma2rJrhyXtGQZYvSECgCQLs2ctmNFKDwNrJd8gmMs0=\", \"merchant_token\": \"Y0kJF3j7sinCJS9VgFLwCC1sHnQd9Y3hYn1nqkujSivlB6HqLcnXopQ6crjlQmTy\"}"
      ]
     },
     "execution_count": 6,
     "metadata": {},
     "output_type": "execute_result"
    }
   ],
   "source": [
    "registration = marketplace_api.register_merchant(\n",
    "    api_endpoint_url='http://nobody:55000/',\n",
    "    merchant_name='sample_merchant',\n",
    "    algorithm_name='human')\n",
    "\n",
    "registration"
   ]
  },
  {
   "cell_type": "markdown",
   "metadata": {},
   "source": [
    "## Setup Authentication"
   ]
  },
  {
   "cell_type": "markdown",
   "metadata": {},
   "source": [
    "Most of the APIs and actions a merchant can do are secured by the merchants token. Imagine in a competitive simulation, other teams/merchant should not be able to act on your behalf."
   ]
  },
  {
   "cell_type": "code",
   "execution_count": 8,
   "metadata": {
    "collapsed": true
   },
   "outputs": [],
   "source": [
    "PricewarsRequester.add_api_token(registration.merchant_token)"
   ]
  },
  {
   "cell_type": "markdown",
   "metadata": {},
   "source": [
    "## Check offers on the market"
   ]
  },
  {
   "cell_type": "markdown",
   "metadata": {},
   "source": [
    "If you want to program your merchant state-less, you can set `include_empty_offers` to True. This will add your own, but out-of-stock offers to be added to the response.\n",
    "\n",
    "A sucessful response will be casted to the according model."
   ]
  },
  {
   "cell_type": "code",
   "execution_count": 10,
   "metadata": {
    "collapsed": false
   },
   "outputs": [
    {
     "data": {
      "text/plain": [
       "[{\"amount\": 4, \"merchant_id\": \"XUxM+XmfkUI2ZeZ2Mphwf066k46Y17X5QaiqDioocZo=\", \"offer_id\": 7510, \"price\": 16.5, \"prime\": true, \"product_id\": 4, \"quality\": 1, \"shipping_time\": {\"standard\": 5, \"prime\": 1}, \"signature\": \"\", \"uid\": 41},\n",
       " {\"amount\": 1, \"merchant_id\": \"XUxM+XmfkUI2ZeZ2Mphwf066k46Y17X5QaiqDioocZo=\", \"offer_id\": 7528, \"price\": 13.2, \"prime\": true, \"product_id\": 4, \"quality\": 2, \"shipping_time\": {\"standard\": 5, \"prime\": 1}, \"signature\": \"\", \"uid\": 42}]"
      ]
     },
     "execution_count": 10,
     "metadata": {},
     "output_type": "execute_result"
    }
   ],
   "source": [
    "offers = marketplace_api.get_offers(include_empty_offers=False)\n",
    "offers[:2]"
   ]
  },
  {
   "cell_type": "code",
   "execution_count": 11,
   "metadata": {
    "collapsed": false
   },
   "outputs": [
    {
     "data": {
      "text/plain": [
       "merchant_sdk.models.Offer.Offer"
      ]
     },
     "execution_count": 11,
     "metadata": {},
     "output_type": "execute_result"
    }
   ],
   "source": [
    "type(offers[0])"
   ]
  },
  {
   "cell_type": "markdown",
   "metadata": {},
   "source": [
    "## Buy products"
   ]
  },
  {
   "cell_type": "markdown",
   "metadata": {},
   "source": [
    "At the time, writing this sample/notebook, the producer did not support the Authorization Token in the HTTP header, so I will have to explicitly add it as a parameter."
   ]
  },
  {
   "cell_type": "code",
   "execution_count": 13,
   "metadata": {
    "collapsed": false
   },
   "outputs": [
    {
     "data": {
      "text/plain": [
       "{\"amount\": 1, \"name\": \"CD_4\", \"price\": 12, \"product_id\": 4, \"quality\": 2, \"signature\": \"MTjIT366xPxgHMuCIiwwBVv84OwFDT2i1w4+Tl4L7IxrBBLd1xC0pei6lqNVKW3MUkXfyev2xg9MLGrqTvw7jiDAkX3lac58YJub1bUlmQK1sVVPMiQXUUFPIkzpT2YhtbFVTzIkF1FBTyJM6U9mIbWxVU8yJBdRQU8iTOlPZiE=\", \"uid\": 42, \"stock\": -1, \"time_to_live\": -1, \"start_of_lifetime\": -1}"
      ]
     },
     "execution_count": 13,
     "metadata": {},
     "output_type": "execute_result"
    }
   ],
   "source": [
    "product = producer_api.buy_product(merchant_token=registration.merchant_token)\n",
    "product"
   ]
  },
  {
   "cell_type": "code",
   "execution_count": 14,
   "metadata": {
    "collapsed": false
   },
   "outputs": [
    {
     "data": {
      "text/plain": [
       "merchant_sdk.models.Product.Product"
      ]
     },
     "execution_count": 14,
     "metadata": {},
     "output_type": "execute_result"
    }
   ],
   "source": [
    "type(product)"
   ]
  },
  {
   "cell_type": "markdown",
   "metadata": {},
   "source": [
    "## Add product to marketplace\n",
    "\n",
    "Products need to be wrapped in an offer in order to put them on the market.\n",
    "\n",
    "You need to provide the latest product signature to the offer, so that the marketplace can confirm the validity of the offer and its product.\n",
    "\n",
    "You can then mutate/adapt the offer and submit it to the market."
   ]
  },
  {
   "cell_type": "code",
   "execution_count": 15,
   "metadata": {
    "collapsed": false
   },
   "outputs": [
    {
     "data": {
      "text/plain": [
       "{\"amount\": 1, \"merchant_id\": \"\", \"offer_id\": -1, \"price\": 12, \"prime\": false, \"product_id\": 4, \"quality\": 2, \"shipping_time\": {\"standard\": 3}, \"signature\": \"MTjIT366xPxgHMuCIiwwBVv84OwFDT2i1w4+Tl4L7IxrBBLd1xC0pei6lqNVKW3MUkXfyev2xg9MLGrqTvw7jiDAkX3lac58YJub1bUlmQK1sVVPMiQXUUFPIkzpT2YhtbFVTzIkF1FBTyJM6U9mIbWxVU8yJBdRQU8iTOlPZiE=\", \"uid\": 42}"
      ]
     },
     "execution_count": 15,
     "metadata": {},
     "output_type": "execute_result"
    }
   ],
   "source": [
    "new_offer = merchant_sdk.models.Offer.from_product(product)\n",
    "new_offer"
   ]
  },
  {
   "cell_type": "code",
   "execution_count": 16,
   "metadata": {
    "collapsed": false
   },
   "outputs": [
    {
     "data": {
      "text/plain": [
       "merchant_sdk.models.Offer.Offer"
      ]
     },
     "execution_count": 16,
     "metadata": {},
     "output_type": "execute_result"
    }
   ],
   "source": [
    "type(new_offer)"
   ]
  },
  {
   "cell_type": "code",
   "execution_count": 17,
   "metadata": {
    "collapsed": false
   },
   "outputs": [
    {
     "data": {
      "text/plain": [
       "{\"amount\": 1, \"merchant_id\": \"\", \"offer_id\": -1, \"price\": 18.0, \"prime\": false, \"product_id\": 4, \"quality\": 2, \"shipping_time\": {\"standard\": 3}, \"signature\": \"MTjIT366xPxgHMuCIiwwBVv84OwFDT2i1w4+Tl4L7IxrBBLd1xC0pei6lqNVKW3MUkXfyev2xg9MLGrqTvw7jiDAkX3lac58YJub1bUlmQK1sVVPMiQXUUFPIkzpT2YhtbFVTzIkF1FBTyJM6U9mIbWxVU8yJBdRQU8iTOlPZiE=\", \"uid\": 42}"
      ]
     },
     "execution_count": 17,
     "metadata": {},
     "output_type": "execute_result"
    }
   ],
   "source": [
    "margin = 0.50\n",
    "new_offer.price *= 1.0 + margin\n",
    "new_offer"
   ]
  },
  {
   "cell_type": "code",
   "execution_count": 18,
   "metadata": {
    "collapsed": false
   },
   "outputs": [
    {
     "data": {
      "text/plain": [
       "{\"amount\": 1, \"merchant_id\": \"6ma2rJrhyXtGQZYvSECgCQLs2ctmNFKDwNrJd8gmMs0=\", \"offer_id\": 7769, \"price\": 18.0, \"prime\": false, \"product_id\": 4, \"quality\": 2, \"shipping_time\": {\"standard\": 3}, \"signature\": \"\", \"uid\": 42}"
      ]
     },
     "execution_count": 18,
     "metadata": {},
     "output_type": "execute_result"
    }
   ],
   "source": [
    "new_offer = marketplace_api.add_offer(new_offer)\n",
    "new_offer"
   ]
  },
  {
   "cell_type": "code",
   "execution_count": 20,
   "metadata": {
    "collapsed": false
   },
   "outputs": [
    {
     "data": {
      "text/plain": [
       "{\"amount\": 1, \"merchant_id\": \"6ma2rJrhyXtGQZYvSECgCQLs2ctmNFKDwNrJd8gmMs0=\", \"offer_id\": 7769, \"price\": 18.0, \"prime\": false, \"product_id\": 4, \"quality\": 2, \"shipping_time\": {\"standard\": 3}, \"signature\": \"\", \"uid\": 42}"
      ]
     },
     "execution_count": 20,
     "metadata": {},
     "output_type": "execute_result"
    }
   ],
   "source": [
    "[o for o in marketplace_api.get_offers() if o.offer_id == new_offer.offer_id][0]"
   ]
  },
  {
   "cell_type": "markdown",
   "metadata": {},
   "source": [
    "## Update product on marketplace"
   ]
  },
  {
   "cell_type": "markdown",
   "metadata": {},
   "source": [
    "Updating a product, e.g. changing its price, is a limited API request. According to your simulation/marketplace settings, we can only call it N times per second."
   ]
  },
  {
   "cell_type": "code",
   "execution_count": 23,
   "metadata": {
    "collapsed": true
   },
   "outputs": [],
   "source": [
    "new_offer.price += 10\n",
    "marketplace_api.update_offer(new_offer)"
   ]
  },
  {
   "cell_type": "code",
   "execution_count": 24,
   "metadata": {
    "collapsed": false
   },
   "outputs": [
    {
     "data": {
      "text/plain": [
       "{\"amount\": 1, \"merchant_id\": \"6ma2rJrhyXtGQZYvSECgCQLs2ctmNFKDwNrJd8gmMs0=\", \"offer_id\": 7769, \"price\": 28.0, \"prime\": false, \"product_id\": 4, \"quality\": 2, \"shipping_time\": {\"standard\": 3}, \"signature\": \"\", \"uid\": 42}"
      ]
     },
     "execution_count": 24,
     "metadata": {},
     "output_type": "execute_result"
    }
   ],
   "source": [
    "[o for o in marketplace_api.get_offers() if o.offer_id == new_offer.offer_id][0]"
   ]
  },
  {
   "cell_type": "markdown",
   "metadata": {},
   "source": [
    "## Unregister the merchant"
   ]
  },
  {
   "cell_type": "markdown",
   "metadata": {},
   "source": [
    "You should keep your merchant and the token as long as possible, because it is the reference to all market data (sales, profit, marketshare), offers and products.\n",
    "\n",
    "However, if you just try things out, like in this sample and don't want to pollute the database with lots of merchants, unregister it. This also removes all offers and products."
   ]
  },
  {
   "cell_type": "code",
   "execution_count": 25,
   "metadata": {
    "collapsed": true
   },
   "outputs": [],
   "source": [
    "marketplace_api.unregister_merchant(merchant_token=registration.merchant_token)"
   ]
  },
  {
   "cell_type": "code",
   "execution_count": null,
   "metadata": {
    "collapsed": true,
    "deletable": true,
    "editable": true
   },
   "outputs": [],
   "source": []
  }
 ],
 "metadata": {
  "kernelspec": {
   "display_name": "Python 3",
   "language": "python",
   "name": "python3"
  },
  "language_info": {
   "codemirror_mode": {
    "name": "ipython",
    "version": 3
   },
   "file_extension": ".py",
   "mimetype": "text/x-python",
   "name": "python",
   "nbconvert_exporter": "python",
   "pygments_lexer": "ipython3",
   "version": "3.6.0"
  }
 },
 "nbformat": 4,
 "nbformat_minor": 2
}
