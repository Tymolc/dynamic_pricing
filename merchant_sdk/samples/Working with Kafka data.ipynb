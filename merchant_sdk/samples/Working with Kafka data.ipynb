{
 "cells": [
  {
   "cell_type": "markdown",
   "metadata": {
    "deletable": true,
    "editable": true
   },
   "source": [
    "# Working with Kafka data\n",
    "\n",
    "During a simulation, the producer and the marketplace are constantly logging sales and the activity on the market to Kafka. These information are organised in topics. In order to estimate customer demand and predict good prices, merchants can use the SDK to access this data.\n",
    "\n",
    "Every data operation other than the raw csv formatting is left to the merchant logic."
   ]
  },
  {
   "cell_type": "markdown",
   "metadata": {
    "deletable": true,
    "editable": true
   },
   "source": [
    "## Install requirements\n",
    "\n",
    "Get the `merchant_sdk` folder, python >= 3.5 and install the dependencies using pip:\n",
    "\n",
    "```\n",
    "cd merchant_sdk\n",
    "pip3 install -r requirements.txt\n",
    "```"
   ]
  },
  {
   "cell_type": "markdown",
   "metadata": {
    "deletable": true,
    "editable": true
   },
   "source": [
    "## Import SDK"
   ]
  },
  {
   "cell_type": "code",
   "execution_count": 1,
   "metadata": {
    "collapsed": true,
    "deletable": true,
    "editable": true
   },
   "outputs": [],
   "source": [
    "import sys\n",
    "sys.path.append('../../')\n",
    "\n",
    "import merchant_sdk"
   ]
  },
  {
   "cell_type": "markdown",
   "metadata": {
    "deletable": true,
    "editable": true
   },
   "source": [
    "## Init API"
   ]
  },
  {
   "cell_type": "code",
   "execution_count": 2,
   "metadata": {
    "collapsed": true,
    "deletable": true,
    "editable": true
   },
   "outputs": [],
   "source": [
    "from merchant_sdk.api import KafkaApi, PricewarsRequester"
   ]
  },
  {
   "cell_type": "code",
   "execution_count": 3,
   "metadata": {
    "collapsed": true,
    "deletable": true,
    "editable": true
   },
   "outputs": [],
   "source": [
    "kafka_endpoint = 'http://vm-mpws2016hp1-05.eaalab.hpi.uni-potsdam.de:8001'\n",
    "kafka_api = KafkaApi(host=kafka_endpoint)"
   ]
  },
  {
   "cell_type": "markdown",
   "metadata": {
    "deletable": true,
    "editable": true
   },
   "source": [
    "## Request topic\n",
    "\n",
    "The csv export consists of two steps. First you request the csv export for a topic, then the Kafka Reverse Proxy will start to fetch all messages in that topic and write, format them into a csv format and writes them to disk (for huge logs, the server could run out of memory). On success, it will return a url for the downloadable csv file. Depending on how active the simulation is and how much data is logged, this can take some time.\n",
    "\n",
    "This url can directly be used with pandas to create a DataFrame. That's why pandas is going to be imported first."
   ]
  },
  {
   "cell_type": "code",
   "execution_count": 4,
   "metadata": {
    "collapsed": true,
    "deletable": true,
    "editable": true
   },
   "outputs": [],
   "source": [
    "import numpy as np\n",
    "import pandas as pd"
   ]
  },
  {
   "cell_type": "code",
   "execution_count": 5,
   "metadata": {
    "collapsed": false,
    "deletable": true,
    "editable": true
   },
   "outputs": [
    {
     "data": {
      "text/plain": [
       "'http://vm-mpws2016hp1-05.eaalab.hpi.uni-potsdam.de:8001/data/buyOffer_1487359838.csv'"
      ]
     },
     "execution_count": 5,
     "metadata": {},
     "output_type": "execute_result"
    }
   ],
   "source": [
    "csv_url = kafka_api.request_csv_export_for_topic('buyOffer')\n",
    "csv_url"
   ]
  },
  {
   "cell_type": "code",
   "execution_count": 6,
   "metadata": {
    "collapsed": false,
    "deletable": true,
    "editable": true
   },
   "outputs": [
    {
     "data": {
      "text/html": [
       "<div>\n",
       "<table border=\"1\" class=\"dataframe\">\n",
       "  <thead>\n",
       "    <tr style=\"text-align: right;\">\n",
       "      <th></th>\n",
       "      <th>amount</th>\n",
       "      <th>consumer_id</th>\n",
       "      <th>http_code</th>\n",
       "      <th>left_in_stock</th>\n",
       "      <th>merchant_id</th>\n",
       "      <th>offer_id</th>\n",
       "      <th>price</th>\n",
       "      <th>product_id</th>\n",
       "      <th>quality</th>\n",
       "      <th>timestamp</th>\n",
       "      <th>uid</th>\n",
       "    </tr>\n",
       "  </thead>\n",
       "  <tbody>\n",
       "    <tr>\n",
       "      <th>0</th>\n",
       "      <td>1</td>\n",
       "      <td>ZJ7HCG6HO1OUqeaLl4FGM3Sj8bT0tsZYdAa/3dUkHVo=</td>\n",
       "      <td>200</td>\n",
       "      <td>1</td>\n",
       "      <td>lsP4d66epeRdGEIB51N3sRN3Gy0R0b8qK+4rxc/EYqM=</td>\n",
       "      <td>7584</td>\n",
       "      <td>6.20</td>\n",
       "      <td>4</td>\n",
       "      <td>1</td>\n",
       "      <td>2017-02-15T07:54:37.534Z</td>\n",
       "      <td>41</td>\n",
       "    </tr>\n",
       "    <tr>\n",
       "      <th>1</th>\n",
       "      <td>1</td>\n",
       "      <td>ZJ7HCG6HO1OUqeaLl4FGM3Sj8bT0tsZYdAa/3dUkHVo=</td>\n",
       "      <td>200</td>\n",
       "      <td>0</td>\n",
       "      <td>hPjEe9kUnPadEcs0jO1HLUL5maZPb6umcWgcbCxHzdo=</td>\n",
       "      <td>7578</td>\n",
       "      <td>30.00</td>\n",
       "      <td>3</td>\n",
       "      <td>1</td>\n",
       "      <td>2017-02-15T07:54:38.675Z</td>\n",
       "      <td>31</td>\n",
       "    </tr>\n",
       "    <tr>\n",
       "      <th>2</th>\n",
       "      <td>1</td>\n",
       "      <td>ZJ7HCG6HO1OUqeaLl4FGM3Sj8bT0tsZYdAa/3dUkHVo=</td>\n",
       "      <td>200</td>\n",
       "      <td>1</td>\n",
       "      <td>sN7jrROVR1hljMZ5OHSLG6cKTwAxKmqDO0OAtWql7Ms=</td>\n",
       "      <td>7581</td>\n",
       "      <td>38.00</td>\n",
       "      <td>4</td>\n",
       "      <td>4</td>\n",
       "      <td>2017-02-15T07:54:42.731Z</td>\n",
       "      <td>44</td>\n",
       "    </tr>\n",
       "    <tr>\n",
       "      <th>3</th>\n",
       "      <td>1</td>\n",
       "      <td>ZJ7HCG6HO1OUqeaLl4FGM3Sj8bT0tsZYdAa/3dUkHVo=</td>\n",
       "      <td>200</td>\n",
       "      <td>0</td>\n",
       "      <td>Is16KAXSx7U7whXnqhRVcJD+JVAFleqAeNdQN4WQoV8=</td>\n",
       "      <td>7600</td>\n",
       "      <td>44.00</td>\n",
       "      <td>1</td>\n",
       "      <td>2</td>\n",
       "      <td>2017-02-15T07:54:44.011Z</td>\n",
       "      <td>12</td>\n",
       "    </tr>\n",
       "    <tr>\n",
       "      <th>4</th>\n",
       "      <td>1</td>\n",
       "      <td>ZJ7HCG6HO1OUqeaLl4FGM3Sj8bT0tsZYdAa/3dUkHVo=</td>\n",
       "      <td>200</td>\n",
       "      <td>0</td>\n",
       "      <td>dgOqVxP1nkkncRhIoOTflL2zJ26X1r7xRNcvP6iqlIk=</td>\n",
       "      <td>7572</td>\n",
       "      <td>24.29</td>\n",
       "      <td>2</td>\n",
       "      <td>3</td>\n",
       "      <td>2017-02-15T07:54:45.355Z</td>\n",
       "      <td>23</td>\n",
       "    </tr>\n",
       "  </tbody>\n",
       "</table>\n",
       "</div>"
      ],
      "text/plain": [
       "   amount                                   consumer_id  http_code  \\\n",
       "0       1  ZJ7HCG6HO1OUqeaLl4FGM3Sj8bT0tsZYdAa/3dUkHVo=        200   \n",
       "1       1  ZJ7HCG6HO1OUqeaLl4FGM3Sj8bT0tsZYdAa/3dUkHVo=        200   \n",
       "2       1  ZJ7HCG6HO1OUqeaLl4FGM3Sj8bT0tsZYdAa/3dUkHVo=        200   \n",
       "3       1  ZJ7HCG6HO1OUqeaLl4FGM3Sj8bT0tsZYdAa/3dUkHVo=        200   \n",
       "4       1  ZJ7HCG6HO1OUqeaLl4FGM3Sj8bT0tsZYdAa/3dUkHVo=        200   \n",
       "\n",
       "   left_in_stock                                   merchant_id  offer_id  \\\n",
       "0              1  lsP4d66epeRdGEIB51N3sRN3Gy0R0b8qK+4rxc/EYqM=      7584   \n",
       "1              0  hPjEe9kUnPadEcs0jO1HLUL5maZPb6umcWgcbCxHzdo=      7578   \n",
       "2              1  sN7jrROVR1hljMZ5OHSLG6cKTwAxKmqDO0OAtWql7Ms=      7581   \n",
       "3              0  Is16KAXSx7U7whXnqhRVcJD+JVAFleqAeNdQN4WQoV8=      7600   \n",
       "4              0  dgOqVxP1nkkncRhIoOTflL2zJ26X1r7xRNcvP6iqlIk=      7572   \n",
       "\n",
       "   price  product_id  quality                 timestamp  uid  \n",
       "0   6.20           4        1  2017-02-15T07:54:37.534Z   41  \n",
       "1  30.00           3        1  2017-02-15T07:54:38.675Z   31  \n",
       "2  38.00           4        4  2017-02-15T07:54:42.731Z   44  \n",
       "3  44.00           1        2  2017-02-15T07:54:44.011Z   12  \n",
       "4  24.29           2        3  2017-02-15T07:54:45.355Z   23  "
      ]
     },
     "execution_count": 6,
     "metadata": {},
     "output_type": "execute_result"
    }
   ],
   "source": [
    "buy_offer_df = pd.read_csv(csv_url)\n",
    "buy_offer_df[:5]"
   ]
  },
  {
   "cell_type": "code",
   "execution_count": 7,
   "metadata": {
    "collapsed": false,
    "deletable": true,
    "editable": true
   },
   "outputs": [
    {
     "data": {
      "text/plain": [
       "12605"
      ]
     },
     "execution_count": 7,
     "metadata": {},
     "output_type": "execute_result"
    }
   ],
   "source": [
    "len(buy_offer_df)"
   ]
  },
  {
   "cell_type": "code",
   "execution_count": 10,
   "metadata": {
    "collapsed": false
   },
   "outputs": [
    {
     "name": "stdout",
     "output_type": "stream",
     "text": [
      "7\n"
     ]
    },
    {
     "data": {
      "text/html": [
       "<div>\n",
       "<table border=\"1\" class=\"dataframe\">\n",
       "  <thead>\n",
       "    <tr style=\"text-align: right;\">\n",
       "      <th></th>\n",
       "      <th>amount</th>\n",
       "      <th>merchant_id</th>\n",
       "      <th>offer_id</th>\n",
       "      <th>price</th>\n",
       "      <th>prime</th>\n",
       "      <th>product_id</th>\n",
       "      <th>quality</th>\n",
       "      <th>shipping_time_prime</th>\n",
       "      <th>shipping_time_standard</th>\n",
       "      <th>timestamp</th>\n",
       "      <th>triggering_merchant_id</th>\n",
       "      <th>uid</th>\n",
       "    </tr>\n",
       "  </thead>\n",
       "  <tbody>\n",
       "    <tr>\n",
       "      <th>0</th>\n",
       "      <td>1</td>\n",
       "      <td>dgOqVxP1nkkncRhIoOTflL2zJ26X1r7xRNcvP6iqlIk=</td>\n",
       "      <td>7567</td>\n",
       "      <td>19.53</td>\n",
       "      <td>True</td>\n",
       "      <td>1</td>\n",
       "      <td>3</td>\n",
       "      <td>1</td>\n",
       "      <td>5</td>\n",
       "      <td>2017-02-14T17:23:56.542Z</td>\n",
       "      <td>dgOqVxP1nkkncRhIoOTflL2zJ26X1r7xRNcvP6iqlIk=</td>\n",
       "      <td>13</td>\n",
       "    </tr>\n",
       "    <tr>\n",
       "      <th>1</th>\n",
       "      <td>1</td>\n",
       "      <td>dgOqVxP1nkkncRhIoOTflL2zJ26X1r7xRNcvP6iqlIk=</td>\n",
       "      <td>7568</td>\n",
       "      <td>9.05</td>\n",
       "      <td>True</td>\n",
       "      <td>1</td>\n",
       "      <td>3</td>\n",
       "      <td>1</td>\n",
       "      <td>5</td>\n",
       "      <td>2017-02-14T17:24:09.233Z</td>\n",
       "      <td>dgOqVxP1nkkncRhIoOTflL2zJ26X1r7xRNcvP6iqlIk=</td>\n",
       "      <td>13</td>\n",
       "    </tr>\n",
       "    <tr>\n",
       "      <th>2</th>\n",
       "      <td>1</td>\n",
       "      <td>dgOqVxP1nkkncRhIoOTflL2zJ26X1r7xRNcvP6iqlIk=</td>\n",
       "      <td>7569</td>\n",
       "      <td>19.76</td>\n",
       "      <td>True</td>\n",
       "      <td>2</td>\n",
       "      <td>3</td>\n",
       "      <td>1</td>\n",
       "      <td>5</td>\n",
       "      <td>2017-02-14T17:27:10.116Z</td>\n",
       "      <td>dgOqVxP1nkkncRhIoOTflL2zJ26X1r7xRNcvP6iqlIk=</td>\n",
       "      <td>23</td>\n",
       "    </tr>\n",
       "    <tr>\n",
       "      <th>3</th>\n",
       "      <td>2</td>\n",
       "      <td>dgOqVxP1nkkncRhIoOTflL2zJ26X1r7xRNcvP6iqlIk=</td>\n",
       "      <td>7568</td>\n",
       "      <td>18.42</td>\n",
       "      <td>True</td>\n",
       "      <td>1</td>\n",
       "      <td>3</td>\n",
       "      <td>1</td>\n",
       "      <td>5</td>\n",
       "      <td>2017-02-14T17:27:20.748Z</td>\n",
       "      <td>dgOqVxP1nkkncRhIoOTflL2zJ26X1r7xRNcvP6iqlIk=</td>\n",
       "      <td>13</td>\n",
       "    </tr>\n",
       "    <tr>\n",
       "      <th>4</th>\n",
       "      <td>1</td>\n",
       "      <td>dgOqVxP1nkkncRhIoOTflL2zJ26X1r7xRNcvP6iqlIk=</td>\n",
       "      <td>7570</td>\n",
       "      <td>17.57</td>\n",
       "      <td>True</td>\n",
       "      <td>1</td>\n",
       "      <td>2</td>\n",
       "      <td>1</td>\n",
       "      <td>5</td>\n",
       "      <td>2017-02-14T17:27:26.648Z</td>\n",
       "      <td>dgOqVxP1nkkncRhIoOTflL2zJ26X1r7xRNcvP6iqlIk=</td>\n",
       "      <td>12</td>\n",
       "    </tr>\n",
       "  </tbody>\n",
       "</table>\n",
       "</div>"
      ],
      "text/plain": [
       "   amount                                   merchant_id  offer_id  price  \\\n",
       "0       1  dgOqVxP1nkkncRhIoOTflL2zJ26X1r7xRNcvP6iqlIk=      7567  19.53   \n",
       "1       1  dgOqVxP1nkkncRhIoOTflL2zJ26X1r7xRNcvP6iqlIk=      7568   9.05   \n",
       "2       1  dgOqVxP1nkkncRhIoOTflL2zJ26X1r7xRNcvP6iqlIk=      7569  19.76   \n",
       "3       2  dgOqVxP1nkkncRhIoOTflL2zJ26X1r7xRNcvP6iqlIk=      7568  18.42   \n",
       "4       1  dgOqVxP1nkkncRhIoOTflL2zJ26X1r7xRNcvP6iqlIk=      7570  17.57   \n",
       "\n",
       "  prime  product_id  quality  shipping_time_prime  shipping_time_standard  \\\n",
       "0  True           1        3                    1                       5   \n",
       "1  True           1        3                    1                       5   \n",
       "2  True           2        3                    1                       5   \n",
       "3  True           1        3                    1                       5   \n",
       "4  True           1        2                    1                       5   \n",
       "\n",
       "                  timestamp                        triggering_merchant_id  uid  \n",
       "0  2017-02-14T17:23:56.542Z  dgOqVxP1nkkncRhIoOTflL2zJ26X1r7xRNcvP6iqlIk=   13  \n",
       "1  2017-02-14T17:24:09.233Z  dgOqVxP1nkkncRhIoOTflL2zJ26X1r7xRNcvP6iqlIk=   13  \n",
       "2  2017-02-14T17:27:10.116Z  dgOqVxP1nkkncRhIoOTflL2zJ26X1r7xRNcvP6iqlIk=   23  \n",
       "3  2017-02-14T17:27:20.748Z  dgOqVxP1nkkncRhIoOTflL2zJ26X1r7xRNcvP6iqlIk=   13  \n",
       "4  2017-02-14T17:27:26.648Z  dgOqVxP1nkkncRhIoOTflL2zJ26X1r7xRNcvP6iqlIk=   12  "
      ]
     },
     "execution_count": 10,
     "metadata": {},
     "output_type": "execute_result"
    }
   ],
   "source": [
    "ms_df = pd.read_csv(kafka_api.request_csv_export_for_topic('marketSituation'))\n",
    "print(len(ms_df))\n",
    "ms_df[:5]"
   ]
  },
  {
   "cell_type": "markdown",
   "metadata": {
    "deletable": true,
    "editable": true
   },
   "source": [
    "### as merchant with token\n",
    "\n",
    "The data is currently available without authentication. A token, however, is optional and reduces the output to the data, a merchant \"may be allowed\" to see (i.e. market situations from updates from this merchant, its own sales)."
   ]
  },
  {
   "cell_type": "code",
   "execution_count": 8,
   "metadata": {
    "collapsed": true,
    "deletable": true,
    "editable": true
   },
   "outputs": [],
   "source": [
    "PricewarsRequester.add_api_token('2ZnJAUNCcv8l2ILULiCwANo7LGEsHCRJlFdvj18MvG8yYTTtCfqN3fTOuhGCthWf')"
   ]
  },
  {
   "cell_type": "code",
   "execution_count": 9,
   "metadata": {
    "collapsed": false,
    "deletable": true,
    "editable": true
   },
   "outputs": [
    {
     "name": "stdout",
     "output_type": "stream",
     "text": [
      "9\n"
     ]
    },
    {
     "data": {
      "text/html": [
       "<div>\n",
       "<table border=\"1\" class=\"dataframe\">\n",
       "  <thead>\n",
       "    <tr style=\"text-align: right;\">\n",
       "      <th></th>\n",
       "      <th>amount</th>\n",
       "      <th>consumer_id</th>\n",
       "      <th>http_code</th>\n",
       "      <th>left_in_stock</th>\n",
       "      <th>merchant_id</th>\n",
       "      <th>offer_id</th>\n",
       "      <th>price</th>\n",
       "      <th>product_id</th>\n",
       "      <th>quality</th>\n",
       "      <th>timestamp</th>\n",
       "      <th>uid</th>\n",
       "    </tr>\n",
       "  </thead>\n",
       "  <tbody>\n",
       "    <tr>\n",
       "      <th>0</th>\n",
       "      <td>1</td>\n",
       "      <td>ZJ7HCG6HO1OUqeaLl4FGM3Sj8bT0tsZYdAa/3dUkHVo=</td>\n",
       "      <td>200</td>\n",
       "      <td>0</td>\n",
       "      <td>dgOqVxP1nkkncRhIoOTflL2zJ26X1r7xRNcvP6iqlIk=</td>\n",
       "      <td>7572</td>\n",
       "      <td>24.29</td>\n",
       "      <td>2</td>\n",
       "      <td>3</td>\n",
       "      <td>2017-02-15T07:54:45.355Z</td>\n",
       "      <td>23</td>\n",
       "    </tr>\n",
       "    <tr>\n",
       "      <th>1</th>\n",
       "      <td>1</td>\n",
       "      <td>x0NLM0ZAinXuUxZczou3nOcY5k59JAcOK6XlBQQxdhs=</td>\n",
       "      <td>200</td>\n",
       "      <td>0</td>\n",
       "      <td>dgOqVxP1nkkncRhIoOTflL2zJ26X1r7xRNcvP6iqlIk=</td>\n",
       "      <td>7566</td>\n",
       "      <td>38.83</td>\n",
       "      <td>1</td>\n",
       "      <td>1</td>\n",
       "      <td>2017-02-15T07:57:33.331Z</td>\n",
       "      <td>11</td>\n",
       "    </tr>\n",
       "    <tr>\n",
       "      <th>2</th>\n",
       "      <td>1</td>\n",
       "      <td>x0NLM0ZAinXuUxZczou3nOcY5k59JAcOK6XlBQQxdhs=</td>\n",
       "      <td>200</td>\n",
       "      <td>0</td>\n",
       "      <td>dgOqVxP1nkkncRhIoOTflL2zJ26X1r7xRNcvP6iqlIk=</td>\n",
       "      <td>7571</td>\n",
       "      <td>12.53</td>\n",
       "      <td>1</td>\n",
       "      <td>4</td>\n",
       "      <td>2017-02-15T07:57:35.247Z</td>\n",
       "      <td>14</td>\n",
       "    </tr>\n",
       "    <tr>\n",
       "      <th>3</th>\n",
       "      <td>1</td>\n",
       "      <td>x0NLM0ZAinXuUxZczou3nOcY5k59JAcOK6XlBQQxdhs=</td>\n",
       "      <td>200</td>\n",
       "      <td>1</td>\n",
       "      <td>dgOqVxP1nkkncRhIoOTflL2zJ26X1r7xRNcvP6iqlIk=</td>\n",
       "      <td>7568</td>\n",
       "      <td>18.42</td>\n",
       "      <td>1</td>\n",
       "      <td>3</td>\n",
       "      <td>2017-02-15T07:57:39.331Z</td>\n",
       "      <td>13</td>\n",
       "    </tr>\n",
       "    <tr>\n",
       "      <th>4</th>\n",
       "      <td>1</td>\n",
       "      <td>x0NLM0ZAinXuUxZczou3nOcY5k59JAcOK6XlBQQxdhs=</td>\n",
       "      <td>200</td>\n",
       "      <td>0</td>\n",
       "      <td>dgOqVxP1nkkncRhIoOTflL2zJ26X1r7xRNcvP6iqlIk=</td>\n",
       "      <td>7567</td>\n",
       "      <td>19.53</td>\n",
       "      <td>1</td>\n",
       "      <td>3</td>\n",
       "      <td>2017-02-15T07:57:40.181Z</td>\n",
       "      <td>13</td>\n",
       "    </tr>\n",
       "  </tbody>\n",
       "</table>\n",
       "</div>"
      ],
      "text/plain": [
       "   amount                                   consumer_id  http_code  \\\n",
       "0       1  ZJ7HCG6HO1OUqeaLl4FGM3Sj8bT0tsZYdAa/3dUkHVo=        200   \n",
       "1       1  x0NLM0ZAinXuUxZczou3nOcY5k59JAcOK6XlBQQxdhs=        200   \n",
       "2       1  x0NLM0ZAinXuUxZczou3nOcY5k59JAcOK6XlBQQxdhs=        200   \n",
       "3       1  x0NLM0ZAinXuUxZczou3nOcY5k59JAcOK6XlBQQxdhs=        200   \n",
       "4       1  x0NLM0ZAinXuUxZczou3nOcY5k59JAcOK6XlBQQxdhs=        200   \n",
       "\n",
       "   left_in_stock                                   merchant_id  offer_id  \\\n",
       "0              0  dgOqVxP1nkkncRhIoOTflL2zJ26X1r7xRNcvP6iqlIk=      7572   \n",
       "1              0  dgOqVxP1nkkncRhIoOTflL2zJ26X1r7xRNcvP6iqlIk=      7566   \n",
       "2              0  dgOqVxP1nkkncRhIoOTflL2zJ26X1r7xRNcvP6iqlIk=      7571   \n",
       "3              1  dgOqVxP1nkkncRhIoOTflL2zJ26X1r7xRNcvP6iqlIk=      7568   \n",
       "4              0  dgOqVxP1nkkncRhIoOTflL2zJ26X1r7xRNcvP6iqlIk=      7567   \n",
       "\n",
       "   price  product_id  quality                 timestamp  uid  \n",
       "0  24.29           2        3  2017-02-15T07:54:45.355Z   23  \n",
       "1  38.83           1        1  2017-02-15T07:57:33.331Z   11  \n",
       "2  12.53           1        4  2017-02-15T07:57:35.247Z   14  \n",
       "3  18.42           1        3  2017-02-15T07:57:39.331Z   13  \n",
       "4  19.53           1        3  2017-02-15T07:57:40.181Z   13  "
      ]
     },
     "execution_count": 9,
     "metadata": {},
     "output_type": "execute_result"
    }
   ],
   "source": [
    "buy_offer_df2 = pd.read_csv(kafka_api.request_csv_export_for_topic('buyOffer'))\n",
    "print(len(buy_offer_df2))\n",
    "buy_offer_df2[:5]"
   ]
  }
 ],
 "metadata": {
  "kernelspec": {
   "display_name": "Python 3",
   "language": "python",
   "name": "python3"
  },
  "language_info": {
   "codemirror_mode": {
    "name": "ipython",
    "version": 3
   },
   "file_extension": ".py",
   "mimetype": "text/x-python",
   "name": "python",
   "nbconvert_exporter": "python",
   "pygments_lexer": "ipython3",
   "version": "3.6.0"
  }
 },
 "nbformat": 4,
 "nbformat_minor": 2
}
